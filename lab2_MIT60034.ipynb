{
 "cells": [
  {
   "cell_type": "code",
   "execution_count": 386,
   "id": "b42f6fa5",
   "metadata": {},
   "outputs": [],
   "source": [
    "# Fall 2012 6.034 Lab 2: Search\n",
    "#\n",
    "# Your answers for the true and false questions will be in the following form.  \n",
    "# Your answers will look like one of the two below:\n",
    "#ANSWER1 = True\n",
    "#ANSWER1 = False\n",
    "\n",
    "# 1: True or false - Hill Climbing search is guaranteed to find a solution\n",
    "#    if there is a solution\n",
    "ANSWER1 = False\n",
    "\n",
    "# 2: True or false - Best-first search will give an optimal search result\n",
    "#    (shortest path length).\n",
    "#    (If you don't know what we mean by best-first search, refer to\n",
    "#     http://courses.csail.mit.edu/6.034f/ai3/ch4.pdf (page 13 of the pdf).)\n",
    "ANSWER2 = False\n",
    "\n",
    "# 3: True or false - Best-first search and hill climbing make use of\n",
    "#    heuristic values of nodes.\n",
    "ANSWER3 = True\n",
    "\n",
    "# 4: True or false - A* uses an extended-nodes set.\n",
    "ANSWER4 = True\n",
    "\n",
    "# 5: True or false - Breadth first search is guaranteed to return a path\n",
    "#    with the shortest number of nodes.\n",
    "ANSWER5 = True\n",
    "\n",
    "# 6: True or false - The regular branch and bound uses heuristic values\n",
    "#    to speed up the search for an optimal path.\n",
    "ANSWER6 = False\n",
    "\n",
    "# Import the Graph data structure from 'search.py'\n",
    "# Refer to search.py for documentation\n",
    "from search import Graph\n",
    "from graphs import GRAPH1\n",
    "from graphs import NEWGRAPH1\n",
    "from graphs import NEWGRAPH2"
   ]
  },
  {
   "cell_type": "code",
   "execution_count": 339,
   "id": "60274a42",
   "metadata": {},
   "outputs": [],
   "source": [
    "## Optional Warm-up: BFS and DFS\n",
    "# If you implement these, the offline tester will test them.\n",
    "# If you don't, it won't.\n",
    "# The online tester will not test them.\n",
    "\n",
    "def bfs(graph, start, goal):\n",
    "    #create a queue with starting root node in it\n",
    "    queue=[[start]]\n",
    "\n",
    "    #while there is path to discover keep searchig\n",
    "    while len(queue)!=0:\n",
    "        path=[]\n",
    "        #get out the first path to explore\n",
    "        first_path=queue.pop(0)\n",
    "        \n",
    "        #if any of the path finishes in the goal node break out and return the path\n",
    "        if first_path[-1]==goal:\n",
    "            break\n",
    "        \n",
    "\n",
    "        #explore all nodes in the first path and append it to the tail of the path\n",
    "        for node in graph.get_connected_nodes(first_path[-1]):\n",
    "            if node in first_path:\n",
    "                continue\n",
    "            path.append(first_path+[node])\n",
    "        #add the path to the tail of the queue\n",
    "        queue=queue+path\n",
    "    edges=[]\n",
    "    for i in range(len(first_path)):\n",
    "        if i!=len(first_path)-1:\n",
    "            edges.append(graph.get_edge(first_path[i], first_path[i+1]))\n",
    "            \n",
    "    #if the path did not end in goal node then return empty list\n",
    "    if first_path[-1]!=goal:\n",
    "        return []\n",
    "    return first_path"
   ]
  },
  {
   "cell_type": "code",
   "execution_count": 340,
   "id": "af80bd38",
   "metadata": {},
   "outputs": [
    {
     "data": {
      "text/plain": [
       "['Mirrored Room', 'Stairs', 'Common Area']"
      ]
     },
     "execution_count": 340,
     "metadata": {},
     "output_type": "execute_result"
    }
   ],
   "source": [
    "bfs(GRAPH1, 'Mirrored Room','Common Area')"
   ]
  },
  {
   "cell_type": "code",
   "execution_count": 413,
   "id": "34ad7f8a",
   "metadata": {},
   "outputs": [],
   "source": [
    "## Once you have completed the breadth-first search,\n",
    "## this part should be very simple to complete.\n",
    "def dfs(graph, start, goal):\n",
    "    #create a queue with starting root node in it\n",
    "    queue=[[start]]\n",
    "    \n",
    "    #while there is path to discover keep searchig\n",
    "    while len(queue)!=0:\n",
    "        path=[]\n",
    "        #get out the first path to explore\n",
    "        first_path=queue.pop(0)\n",
    "        \n",
    "        #if any of the path finishes in the goal node break out and return the path\n",
    "        if first_path[-1]==goal:\n",
    "            break\n",
    "\n",
    "        #explore all nodes in the first path and append it to the tail of the path\n",
    "        for node in graph.get_connected_nodes(first_path[-1]):\n",
    "            #if the node is already in the first path look at the other node\n",
    "            if  node in first_path:\n",
    "                continue\n",
    "            #in contrast to bfs append the first path to the front of the queue\n",
    "            path=[first_path+[node]]+path\n",
    "        \n",
    "        #add the explored paths into the front of the queue\n",
    "        queue=path+queue\n",
    "\n",
    "    #if the path did not end in goal node then return empty list\n",
    "    if first_path[-1]!=goal:\n",
    "        return []\n",
    "    return first_path"
   ]
  },
  {
   "cell_type": "code",
   "execution_count": 414,
   "id": "d6d653d4",
   "metadata": {},
   "outputs": [
    {
     "data": {
      "text/plain": [
       "['Mirrored Room', 'Statues', 'Stairs', 'Common Area']"
      ]
     },
     "execution_count": 414,
     "metadata": {},
     "output_type": "execute_result"
    }
   ],
   "source": [
    "dfs(GRAPH1, 'Mirrored Room','Common Area')"
   ]
  },
  {
   "cell_type": "code",
   "execution_count": 411,
   "id": "6662f945",
   "metadata": {},
   "outputs": [],
   "source": [
    "## Now we're going to add some heuristics into the search.  \n",
    "## Remember that hill-climbing is a modified version of depth-first search.\n",
    "## Search direction should be towards lower heuristic values to the goal.\n",
    "\n",
    "def hill_climbing(graph, start, goal):\n",
    "    #create a path with starting root node in it\n",
    "    queue=[[graph.get_heuristic(start, goal),[start]]]\n",
    "    #while there is path to discover keep searchig\n",
    "    while len(queue)!=0:\n",
    "        \n",
    "        path=[]\n",
    "        \n",
    "        #get out the first path to explore\n",
    "        first_path=queue.pop(0)\n",
    "        #remove the heurisctic distance to update\n",
    "        first_path=first_path[-1]\n",
    "        #explore all nodes in the first path and append it to the tail of the queue path\n",
    "        \n",
    "        #if any of the path finishes in the goal node break out and return the path\n",
    "        if first_path[-1]==goal:\n",
    "            break\n",
    "       \n",
    "        for node in graph.get_connected_nodes(first_path[-1]):\n",
    "            #if the node is already in the first path or the node is the starting node look at the other node\n",
    "            if node in first_path:\n",
    "                continue\n",
    "            \n",
    "            node_heuristic=graph.get_heuristic(node, goal)\n",
    "            #in contrast to bfs or dfs we need to append the first path by sorting based on heursitics\n",
    "            path=[[node_heuristic,first_path+[node]]]+path\n",
    "            \n",
    "        #sort the path based on heuristics distance inside the nested list.\n",
    "        path=sorted(path)\n",
    "        #add the path to the front of the queue\n",
    "        queue=path+queue\n",
    "\n",
    "    #if the path did not end in goal node then return empty list\n",
    "    if first_path[-1]!=goal:\n",
    "        return []\n",
    "    return first_path"
   ]
  },
  {
   "cell_type": "code",
   "execution_count": 412,
   "id": "b117ca64",
   "metadata": {},
   "outputs": [
    {
     "data": {
      "text/plain": [
       "['H', 'D', 'B', 'A', 'S', 'C', 'E', 'G']"
      ]
     },
     "execution_count": 412,
     "metadata": {},
     "output_type": "execute_result"
    }
   ],
   "source": [
    "hill_climbing(NEWGRAPH1,'H','G')"
   ]
  },
  {
   "cell_type": "code",
   "execution_count": 348,
   "id": "aaa3694a",
   "metadata": {},
   "outputs": [
    {
     "data": {
      "text/plain": [
       "['F', 'B', 'D', 'C', 'E', 'G']"
      ]
     },
     "execution_count": 348,
     "metadata": {},
     "output_type": "execute_result"
    }
   ],
   "source": [
    "hill_climbing(NEWGRAPH1,'F','G')\n",
    "# ['F', 'B', 'D', 'C', 'E', 'G']"
   ]
  },
  {
   "cell_type": "code",
   "execution_count": 349,
   "id": "83192d29",
   "metadata": {},
   "outputs": [
    {
     "data": {
      "text/plain": [
       "['Mirrored Room', 'Stairs', 'Common Area']"
      ]
     },
     "execution_count": 349,
     "metadata": {},
     "output_type": "execute_result"
    }
   ],
   "source": [
    "hill_climbing(GRAPH1, 'Mirrored Room','Common Area')"
   ]
  },
  {
   "cell_type": "code",
   "execution_count": 408,
   "id": "7825702f",
   "metadata": {},
   "outputs": [],
   "source": [
    "## Now we're going to implement beam search, a variation on BFS\n",
    "## that caps the amount of memory used to store paths.  Remember,\n",
    "## we maintain only k candidate paths of length n in our agenda at any time.\n",
    "## The k top candidates are to be determined using the \n",
    "## graph get_heuristic function, with lower values being better values.\n",
    "def beam_search(graph, start, goal, beam_width):\n",
    "    #create a path with starting root node in it\n",
    "    queue=[[graph.get_heuristic(start, goal),[start]]]\n",
    "    #while there is path to discover keep searchig\n",
    "    while len(queue)!=0:\n",
    "        \n",
    "        path=[]\n",
    "        \n",
    "        #get out the first path to explore\n",
    "        first_path=queue[0]\n",
    "        #remove the heurisctic distance to update\n",
    "        first_path=first_path[-1]\n",
    "        #if any of the path finishes in the goal node break out and return the path\n",
    "        if first_path[-1]==goal:\n",
    "            break\n",
    "        for branch in queue:\n",
    "            #branch is the list including heuristic value and the pathway. [heuristic distance,[pathway]]\n",
    "            #so by telling branch[-1][-1] we are extracting the pathway's final node.\n",
    "            for node in graph.get_connected_nodes(branch[-1][-1]):\n",
    "                #if the node is already in the branch pathway then pass to the next iteration (node)\n",
    "                if node in branch[-1]:\n",
    "                    continue\n",
    "                #get the heuristic distance of the new node\n",
    "                node_heuristic=graph.get_heuristic(node, goal)\n",
    "                #create a new pathway with new heuristic value\n",
    "                path=[[node_heuristic,branch[-1]+[node]]]+path\n",
    "            \n",
    "        #sort the path based on heuristics distance inside the nested list.\n",
    "        path=sorted(path)\n",
    "        #keep beam widths (k) number of elements of the path at the level n. assign it to the queue\n",
    "        queue=path[:beam_width]\n",
    "    \n",
    "    #if the path did not end in goal node then return empty list\n",
    "    if first_path[-1]!=goal:\n",
    "        return []\n",
    "    return first_path"
   ]
  },
  {
   "cell_type": "code",
   "execution_count": 409,
   "id": "13bb0afa",
   "metadata": {},
   "outputs": [
    {
     "data": {
      "text/plain": [
       "['Mirrored Room', 'Stairs', 'Common Area']"
      ]
     },
     "execution_count": 409,
     "metadata": {},
     "output_type": "execute_result"
    }
   ],
   "source": [
    "beam_search(GRAPH1, 'Mirrored Room','Common Area',4)"
   ]
  },
  {
   "cell_type": "code",
   "execution_count": 410,
   "id": "0a104f7b",
   "metadata": {},
   "outputs": [
    {
     "data": {
      "text/plain": [
       "['F', 'B', 'A', 'S', 'C', 'E', 'G']"
      ]
     },
     "execution_count": 410,
     "metadata": {},
     "output_type": "execute_result"
    }
   ],
   "source": [
    "beam_search(NEWGRAPH1,'F','G',2)"
   ]
  },
  {
   "cell_type": "code",
   "execution_count": 421,
   "id": "52ec2c62",
   "metadata": {},
   "outputs": [],
   "source": [
    "## Now we're going to try optimal search.  The previous searches haven't\n",
    "## used edge distances in the calculation.\n",
    "\n",
    "## This function takes in a graph and a list of node names, and returns\n",
    "## the sum of edge lengths along the path -- the total distance in the path.\n",
    "def path_length(graph, node_names):\n",
    "    if len(node_names)==1:\n",
    "        return 0\n",
    "    length=0\n",
    "    for i in range(len(node_names)):\n",
    "        if i!=len(node_names)-1:\n",
    "            edge=graph.get_edge(node_names[i], node_names[i+1])\n",
    "            length+=edge.length\n",
    "    return length"
   ]
  },
  {
   "cell_type": "code",
   "execution_count": 423,
   "id": "c09a163c",
   "metadata": {},
   "outputs": [
    {
     "data": {
      "text/plain": [
       "0"
      ]
     },
     "execution_count": 423,
     "metadata": {},
     "output_type": "execute_result"
    }
   ],
   "source": [
    "path_length(NEWGRAPH1,['F'])"
   ]
  },
  {
   "cell_type": "code",
   "execution_count": 469,
   "id": "4e7cd44a",
   "metadata": {},
   "outputs": [],
   "source": [
    "def branch_and_bound(graph, start, goal):\n",
    "     #create a queue with starting root node in it\n",
    "    queue=[[0,[start]]]\n",
    "    \n",
    "    #while there is path to discover keep searchig\n",
    "    while len(queue)!=0:\n",
    "        path=[]\n",
    "        #get out the first path to explore\n",
    "        first_path=queue.pop(0)\n",
    "        #the paths in the queue in the format of [[pathlengt,[path]]]\n",
    "        #so by making first_path[-1] we are extracting only the path list\n",
    "        first_path=first_path[-1]\n",
    "        #if any of the path finishes in the goal node break out and return the path\n",
    "        if first_path[-1]==goal:\n",
    "            break\n",
    "\n",
    "        #explore all nodes in the first path and append it to the tail of the path\n",
    "        for node in graph.get_connected_nodes(first_path[-1]):\n",
    "            #if the node is already in the first path look at the other node\n",
    "            if  node in first_path:\n",
    "                continue\n",
    "            #in contrast to bfs append the first path to the front of the queue\n",
    "            path=[first_path+[node]]+path\n",
    "        #for the paths gathered find the new length and update the queue with appropriate lengths\n",
    "        for p in path:\n",
    "            length=path_length(graph,p)\n",
    "            queue.append([length,p])\n",
    "            \n",
    "        #sort the queue based on the path length\n",
    "        queue=sorted(queue)\n",
    "\n",
    "\n",
    "    #if the path did not end in goal node then return empty list\n",
    "    if first_path[-1]!=goal:\n",
    "        return []\n",
    "    return first_path"
   ]
  },
  {
   "cell_type": "code",
   "execution_count": 470,
   "id": "caed00fc",
   "metadata": {},
   "outputs": [
    {
     "data": {
      "text/plain": [
       "['F', 'B', 'D', 'E', 'G']"
      ]
     },
     "execution_count": 470,
     "metadata": {},
     "output_type": "execute_result"
    }
   ],
   "source": [
    "branch_and_bound(NEWGRAPH1,'F','G')"
   ]
  },
  {
   "cell_type": "code",
   "execution_count": 503,
   "id": "d9c5c747",
   "metadata": {},
   "outputs": [],
   "source": [
    "def a_star(graph, start, goal):\n",
    "     #create a queue with starting root node in it\n",
    "    queue=[[0,[start]]]\n",
    "    \n",
    "    #create a set of queue that will store all traversed nodes. \n",
    "    #it also will prevent to extend already visited nodes.\n",
    "    set_queue=set(start)\n",
    "    \n",
    "    #while there is path to discover keep searchig\n",
    "    while len(queue)!=0:\n",
    "        #get out the first path to explore\n",
    "        first_path=queue.pop(0)\n",
    "        #the paths in the queue in the format of [[pathlengt,[path]]]\n",
    "        #so by making first_path[-1] we are extracting only the path list\n",
    "        first_path=first_path[-1]\n",
    "        #if any of the path finishes in the goal node break out and return the path\n",
    "        if first_path[-1]==goal:\n",
    "            break\n",
    "\n",
    "        #explore all nodes in the first path and append it to the tail of the path\n",
    "        for node in graph.get_connected_nodes(first_path[-1]):\n",
    "            #if the node is already in the first path look at the other node\n",
    "            if  node in first_path or node in set_queue:\n",
    "                continue\n",
    "            #in contrast to bfs append the first path to the front of the queue\n",
    "            path=first_path+[node]\n",
    "            #calculate the length of the current path\n",
    "            length=path_length(graph,path)\n",
    "            #get the heuristic distance of the current node\n",
    "            node_heuristic=graph.get_heuristic(node, goal)\n",
    "            #calculate the estimated total distance\n",
    "            estimate=length+node_heuristic\n",
    "            #add the estimated distance and current path to the queue\n",
    "            queue.append([estimate,path])    \n",
    "            #add the node to the set\n",
    "            set_queue.add(node)\n",
    "            \n",
    "        #sort the queue based on the path length\n",
    "        queue=sorted(queue)\n",
    "        \n",
    "    #if the path did not end in goal node then return empty list\n",
    "    if first_path[-1]!=goal:\n",
    "        return []\n",
    "    return first_path"
   ]
  },
  {
   "cell_type": "code",
   "execution_count": 504,
   "id": "e17025cc",
   "metadata": {},
   "outputs": [
    {
     "data": {
      "text/plain": [
       "['F', 'B', 'D', 'E', 'G']"
      ]
     },
     "execution_count": 504,
     "metadata": {},
     "output_type": "execute_result"
    }
   ],
   "source": [
    "a_star(NEWGRAPH1,'F','G')"
   ]
  },
  {
   "cell_type": "code",
   "execution_count": 534,
   "id": "04ad33ff",
   "metadata": {},
   "outputs": [],
   "source": [
    "## It's useful to determine if a graph has a consistent and admissible\n",
    "## heuristic.  You've seen graphs with heuristics that are\n",
    "## admissible, but not consistent.  Have you seen any graphs that are\n",
    "## consistent, but not admissible?\n",
    "\n",
    "def is_admissible(graph, goal):\n",
    "    \n",
    "    for node in graph.nodes:\n",
    "        shortest_path=a_star(graph,node,goal)\n",
    "        shortest_length=path_length(graph,shortest_path)\n",
    "        heuristic_distance=graph.get_heuristic(node, goal)\n",
    "        if heuristic_distance>shortest_length:\n",
    "            return False\n",
    "    return True"
   ]
  },
  {
   "cell_type": "code",
   "execution_count": 535,
   "id": "1e93270f",
   "metadata": {},
   "outputs": [
    {
     "data": {
      "text/plain": [
       "True"
      ]
     },
     "execution_count": 535,
     "metadata": {},
     "output_type": "execute_result"
    }
   ],
   "source": [
    "is_admissible(NEWGRAPH1,'A')"
   ]
  },
  {
   "cell_type": "code",
   "execution_count": 536,
   "id": "4b974abc",
   "metadata": {},
   "outputs": [],
   "source": [
    "def is_consistent(graph, goal):\n",
    "    \n",
    "    for node1 in graph.nodes:\n",
    "        for node2 in graph.get_connected_nodes(node1):\n",
    "            edge=graph.get_edge(node1, node2)\n",
    "            edge_length=edge.length\n",
    "            h1=graph.get_heuristic(node1, goal)\n",
    "            h2=graph.get_heuristic(node2, goal)\n",
    "            \n",
    "            if edge_length<abs(h1-h2):\n",
    "                return False\n",
    "    return True"
   ]
  },
  {
   "cell_type": "code",
   "execution_count": 537,
   "id": "5c25636f",
   "metadata": {},
   "outputs": [
    {
     "data": {
      "text/plain": [
       "True"
      ]
     },
     "execution_count": 537,
     "metadata": {},
     "output_type": "execute_result"
    }
   ],
   "source": [
    "is_consistent(NEWGRAPH1, 'G')"
   ]
  }
 ],
 "metadata": {
  "kernelspec": {
   "display_name": "Python 3",
   "language": "python",
   "name": "python3"
  },
  "language_info": {
   "codemirror_mode": {
    "name": "ipython",
    "version": 3
   },
   "file_extension": ".py",
   "mimetype": "text/x-python",
   "name": "python",
   "nbconvert_exporter": "python",
   "pygments_lexer": "ipython3",
   "version": "3.5.6"
  }
 },
 "nbformat": 4,
 "nbformat_minor": 5
}
